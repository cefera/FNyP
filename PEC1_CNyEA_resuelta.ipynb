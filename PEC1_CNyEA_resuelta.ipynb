{
 "cells": [
  {
   "cell_type": "markdown",
   "id": "bc2354fb",
   "metadata": {},
   "source": [
    "<img src=\"https://upload.wikimedia.org/wikipedia/commons/2/25/LogoUNED.jpg\" width=\"120\" height=\"120\" />\n",
    "\n",
    "# Cálculo Numérico y Estadística Aplicada\n",
    "\n",
    "\n",
    "## Grado en Química - UNED \n",
    "## Primera PEC\n",
    "\n",
    "\n",
    "Toda la documentación de la práctica se puede encontrar y descargar en: https://github.com/cefera/CNyEA-Quimica-UNED\n",
    "\n",
    "Se recomienda leer la parte 1 de los apuntes de la asignatura y ejecutar el cuaderno de Jupyter <code>TestEjecucion_CNyEA.ipynb</code> antes de ejecutar este cuaderno.\n",
    "\n",
    "En la actualidad exiten numerosas librerías para la resolución de numerosos problemas de cálculo numérico. En esta práctica vamos a aprender a utilizar algunas de dichas librerías que se encuentran implementadas en Python. A lo largo del cuaderno se proporcionan enlaces a la documentación de las librerías. Se recomienda consultarlos para la realización de la PEC.\n",
    "\n",
    "----------------------------------------------------------"
   ]
  },
  {
   "cell_type": "markdown",
   "id": "0c5757b1",
   "metadata": {},
   "source": [
    "Para comenzar, lo primero hace falta que introduzca sus datos en la siguiente celda. Para ello, haga doble click en la celda y rellene los campos. Cuando lo haya hecho pulse <kbd>Shift</kbd>+<kbd>Enter</kbd>"
   ]
  },
  {
   "cell_type": "markdown",
   "id": "1873a2ca",
   "metadata": {},
   "source": [
    "> ---\n",
    "> - **NOMBRE:** \n",
    "> - **APELLIDOS:** \n",
    "> - **DNI/NIE/No. PASAPORTE:**\n",
    "> - **FECHA (dd/mm/aaaa):** \n",
    "> ---"
   ]
  },
  {
   "cell_type": "markdown",
   "id": "9e978521",
   "metadata": {},
   "source": [
    "En la siguiente celda, se va a asignar su número de DNI/NIE/Pasaporte a la variable <code>uned</code>, para ello, sustituya <code>...</code> por dicho número (sin letras) y ejecute la celda."
   ]
  },
  {
   "cell_type": "code",
   "execution_count": 1,
   "id": "e379f7c8",
   "metadata": {},
   "outputs": [],
   "source": [
    "uned = 1000"
   ]
  },
  {
   "cell_type": "markdown",
   "id": "acd3904a",
   "metadata": {},
   "source": [
    "## Carga de librerías\n",
    "\n",
    "La siguiente celda carga todas las librerías y los datos que posteriormente utilizaremos. Ejecútela."
   ]
  },
  {
   "cell_type": "code",
   "execution_count": 2,
   "id": "d0f8b39a",
   "metadata": {},
   "outputs": [
    {
     "name": "stdout",
     "output_type": "stream",
     "text": [
      "Ahora las librerías y los datos están cargados y disponibles para ser utilizados\n"
     ]
    }
   ],
   "source": [
    "###########################################################################################\n",
    "#\n",
    "#   Librerias\n",
    "#\n",
    "###########################################################################################\n",
    "\n",
    "###########################################################################################\n",
    "#   Estas son las librerías que se van a emplear en este ejemplo\n",
    "#   Las librerías son códigos ya desarrollados por otras personas que podemos reutilizar\n",
    "###########################################################################################\n",
    "\n",
    "import numpy as np; # esta librería contiene una gran cantidad de funciones de cálculo numérico\n",
    "import matplotlib.pyplot as plt # esta librería sirve para dibujar gráficas\n",
    "from scipy import linalg # descomposición LU\n",
    "from scipy import optimize # para newton y bisección\n",
    "import scipy.integrate as integrate # integracion\n",
    "\n",
    "###########################################################\n",
    "#   Esta es la definición de un par de colores que vamos a utilizar posteriormente en las figuras\n",
    "jpac_blue   = \"#1F77B4\"; jpac_red    = \"#D61D28\"; jpac_green  = \"#2CA02C\"; jpac_orange = \"#FF7F0E\";\n",
    "jpac_purple = \"#9467BD\"; jpac_brown  = \"#8C564B\"; jpac_pink   = \"#E377C2\"; jpac_gold   = \"#BCBD22\";\n",
    "jpac_aqua   = \"#17BECF\"; jpac_grey   = \"#7F7F7F\";\n",
    "\n",
    "jpac_color = [jpac_blue, jpac_red, jpac_green, jpac_orange, jpac_purple, jpac_brown,\n",
    "              jpac_pink, jpac_gold, jpac_aqua, jpac_grey ];\n",
    "\n",
    "#generacion de los numeros a utilizar\n",
    "rng = np.random.default_rng(uned);\n",
    "#print(rng)\n",
    "\n",
    "# Matrices\n",
    "def construir_matriz(n,nmin,nmax):\n",
    "    tamano = int(n*(n+1)/2)\n",
    "    rints = rng.integers(low=nmin, high=nmax, size=tamano)\n",
    "    intsg = rng.binomial(1, 0.5, size=tamano)\n",
    "    intsg = np.where(intsg == 0, -1, intsg)\n",
    "    A = np.zeros((n,n),dtype='int')\n",
    "    punto = 0\n",
    "    for i in np.arange(n):\n",
    "        A [i,i] = intsg[punto]*rints[punto]\n",
    "        punto = punto + 1\n",
    "        for j in np.arange(i+1,n):\n",
    "            A [i,j] = intsg[punto]*rints[punto]\n",
    "            A [j,i] = A[i,j]\n",
    "            punto = punto + 1\n",
    "    return A\n",
    "\n",
    "Asize, Amin, Amax = 5, 1, 10; rechazado = True\n",
    "while (rechazado):\n",
    "    Ainput = construir_matriz(Asize,Amin,Amax)\n",
    "    if np.linalg.det(Ainput)!=0:\n",
    "        rechazado = False\n",
    "\n",
    "binput = np.transpose(rng.integers(low=Amin, high=Amax, size=Asize))\n",
    "\n",
    "# Datos para interpolar\n",
    "def construir_datos(n,xmin,xmax):\n",
    "    x = np.linspace(xmin,xmax,n)\n",
    "    y = 10.*rng.random(x.size)\n",
    "    return x,y\n",
    "\n",
    "def construir_polinomio(n,nmin,nmax):\n",
    "    rints = rng.integers(low=nmin, high=nmax, size=n)\n",
    "    intsg = rng.binomial(1, 0.5, size=n)\n",
    "    intsg = np.where(intsg == 0, -1, intsg)\n",
    "    return np.array(intsg*rints)\n",
    "\n",
    "ndatos = 6\n",
    "xinput, yinput = construir_datos(ndatos,1.,11.)\n",
    "\n",
    "# Polinomio para resolución de ecuaciones no lineales\n",
    "proots = rng.integers(low=-10, high=10, size=3)\n",
    "ppol = np.polynomial.polynomial.Polynomial.fromroots(proots)\n",
    "pcoef = np.flip(ppol.coef)\n",
    "ppol = np.poly1d(pcoef)\n",
    "       \n",
    "print('Ahora las librerías y los datos están cargados y disponibles para ser utilizados')"
   ]
  },
  {
   "cell_type": "markdown",
   "id": "940b797b",
   "metadata": {},
   "source": [
    "En primer lugar vamos a realizar un cálculo sencillo. El coseno de $\\pi$. Para ello vamos a utilizar la función <code>cos</code> de <code>numpy</code> y el número $\\pi$ que está almacenado en la variable <code>pi</code> de la misma libreria. Por ello, si queremos calcular $\\cos \\pi$ la línea de código a escribir será <code>np.cos(np.pi)</code>. Sustituya los puntos suspensivos <code>...</code> en la siguiente celda por <code>np.cos(np.pi)</code> y ejecútela. Debe obtener <code>-1.0</code>"
   ]
  },
  {
   "cell_type": "code",
   "execution_count": 3,
   "id": "4bb651c5",
   "metadata": {},
   "outputs": [
    {
     "data": {
      "text/plain": [
       "-1.0"
      ]
     },
     "execution_count": 3,
     "metadata": {},
     "output_type": "execute_result"
    }
   ],
   "source": [
    "np.cos(np.pi)"
   ]
  },
  {
   "cell_type": "markdown",
   "id": "42c72fc7",
   "metadata": {},
   "source": [
    "Hemos cargado tres librerías: <code>numpy</code> con el alias <code>np</code>, <code>matplotlib.pyplot</code> con el alias <code>plt</code>, <code>scipy.linalg</code> con el alias <code>linalg</code>\n",
    "\n",
    "Vamos a comenzar con la resolución de sistemas de ecuaciones."
   ]
  },
  {
   "cell_type": "markdown",
   "id": "3240ecdc",
   "metadata": {},
   "source": [
    "## Sistemas de ecuaciones\n",
    "\n",
    "Ejecute la siguiente celda."
   ]
  },
  {
   "cell_type": "code",
   "execution_count": 4,
   "id": "8ee3e976",
   "metadata": {},
   "outputs": [
    {
     "name": "stdout",
     "output_type": "stream",
     "text": [
      "Primero se va a trabajar con sistemas de ecuaciones.\n",
      "Supongamos un sistema de ecuaciones lineales dado por la siguiente matriz A simétrica:\n",
      "A= [[ 2  5  8 -6 -8]\n",
      " [ 5  5  2 -2 -5]\n",
      " [ 8  2  5  3  2]\n",
      " [-6 -2  3  5 -3]\n",
      " [-8 -5  2 -3  3]]\n",
      "Y por el siguiente vector b:\n",
      "b=[ 7\n",
      "    8\n",
      "    5\n",
      "    4\n",
      "    1 ]\n"
     ]
    }
   ],
   "source": [
    "print('Primero se va a trabajar con sistemas de ecuaciones.')\n",
    "print('Supongamos un sistema de ecuaciones lineales dado por la siguiente matriz A simétrica:')\n",
    "print('A=',Ainput)\n",
    "print('Y por el siguiente vector b:')\n",
    "for i in range(Asize):\n",
    "    if i==0:\n",
    "        print('b=[',binput[i])\n",
    "    elif i==Asize-1:\n",
    "        print('   ',binput[i],']')\n",
    "    else:\n",
    "        print('   ',binput[i])"
   ]
  },
  {
   "cell_type": "markdown",
   "id": "db682ac3",
   "metadata": {},
   "source": [
    "Vamos a calcular la factorización $LU$ y a diagonalizar la matriz $A$\n",
    "\n",
    "En primer lugar defina la matriz $A$ y el vector $b$. Para ello ha de utilizar las funcines <code>matrix</code> y <code>array</code> de <code>numpy</code> cuya documentación puede encontrar en https://numpy.org/doc/2.0/reference/generated/numpy.matrix.html y en https://numpy.org/doc/stable/reference/generated/numpy.array.html#numpy.array. Rellene los huecos <code>...</code> de la siguiente celda con los valores de $A$ y $b$ dados en la celda anterior."
   ]
  },
  {
   "cell_type": "code",
   "execution_count": 5,
   "id": "15ebd725",
   "metadata": {},
   "outputs": [
    {
     "name": "stdout",
     "output_type": "stream",
     "text": [
      "Comprobamos que A está correctamente definido imprimiéndolo en pantalla\n",
      "A = [[ 2  5  8 -6 -8]\n",
      " [ 5  5  2 -2 -5]\n",
      " [ 8  2  5  3  2]\n",
      " [-6 -2  3  5 -3]\n",
      " [-8 -5  2 -3  3]]\n",
      "Comprobamos que b está correctamente definido imprimiéndolo en pantalla (aparece transpuesto, eso está bien)\n",
      "b = [7 8 5 4 1]\n"
     ]
    }
   ],
   "source": [
    "A = np.matrix(' 2  5  8 -6 -8; 5  5  2 -2 -5; 8  2  5  3  2; -6 -2  3  5 -3; -8 -5  2 -3  3 ' );\n",
    "b = np.array([7, 8, 5, 4, 1 ]);\n",
    "print('Comprobamos que A está correctamente definido imprimiéndolo en pantalla')\n",
    "print('A =',A)\n",
    "print('Comprobamos que b está correctamente definido imprimiéndolo en pantalla (aparece transpuesto, eso está bien)')\n",
    "print('b =',b)"
   ]
  },
  {
   "cell_type": "markdown",
   "id": "3439084a",
   "metadata": {},
   "source": [
    "#### Factorización $LU$\n",
    "\n",
    "Para calcular la factorización LU sólo hay que utilizar la función de <code>scipy.linalg.lu</code> documentada en https://docs.scipy.org/doc/scipy/reference/generated/scipy.linalg.lu.html En concreto el código a escribir sería:\n",
    "\n",
    "<code>P, L, U = linalg.lu(A)</code>\n",
    "\n",
    "Nótese que se escribe <code>linalg.lu</code> para invocar la función en lugar de <code>scipy.linalg.lu</code>. Piense por qué eso es así. Entenderlo le será muy útil en lo que resta de PEC.\n",
    "\n",
    "Calcule la descomposición LU de la matriz A en la siguiente celda e imprima en pantalla los resultados:"
   ]
  },
  {
   "cell_type": "code",
   "execution_count": 6,
   "id": "eaff5be0",
   "metadata": {},
   "outputs": [
    {
     "name": "stdout",
     "output_type": "stream",
     "text": [
      "[[0. 1. 0. 0. 0.]\n",
      " [0. 0. 0. 0. 1.]\n",
      " [1. 0. 0. 0. 0.]\n",
      " [0. 0. 0. 1. 0.]\n",
      " [0. 0. 1. 0. 0.]]\n",
      "[[ 1.          0.          0.          0.          0.        ]\n",
      " [ 0.25        1.          0.          0.          0.        ]\n",
      " [-1.         -0.66666667  1.          0.          0.        ]\n",
      " [-0.75       -0.11111111  0.65217391  1.          0.        ]\n",
      " [ 0.625       0.83333333 -0.58695652 -0.09447005  1.        ]]\n",
      "[[ 8.          2.          5.          3.          2.        ]\n",
      " [ 0.          4.5         6.75       -6.75       -8.5       ]\n",
      " [ 0.          0.         11.5        -4.5        -0.66666667]\n",
      " [ 0.          0.          0.          9.43478261 -2.00966184]\n",
      " [ 0.          0.          0.          0.          0.25217614]]\n"
     ]
    }
   ],
   "source": [
    "P, L, U = linalg.lu(A)\n",
    "print(P)\n",
    "print(L)\n",
    "print(U)"
   ]
  },
  {
   "cell_type": "markdown",
   "id": "ab27fe67",
   "metadata": {},
   "source": [
    "A continuación compruebe que la factorización es correcta y se cumple:\n",
    "$$L U = A$$\n",
    "\n",
    "Para ello, puede hacer uso de la función de multiplicación de matrices de <code>numpy</code> llamada <code>matmul</code> https://numpy.org/doc/stable/reference/generated/numpy.matmul.html Imprima el resultado en pantalla"
   ]
  },
  {
   "cell_type": "code",
   "execution_count": 7,
   "id": "d36ac144",
   "metadata": {},
   "outputs": [
    {
     "name": "stdout",
     "output_type": "stream",
     "text": [
      "[[ 8.  2.  5.  3.  2.]\n",
      " [ 2.  5.  8. -6. -8.]\n",
      " [-8. -5.  2. -3.  3.]\n",
      " [-6. -2.  3.  5. -3.]\n",
      " [ 5.  5.  2. -2. -5.]]\n"
     ]
    }
   ],
   "source": [
    "A = np.matmul(L,U)\n",
    "print(A)"
   ]
  },
  {
   "cell_type": "markdown",
   "id": "5b451065",
   "metadata": {},
   "source": [
    "## Pregunta: ##\n",
    "\n",
    "Haciendo uso de los apuntes y de la documentación sobre <code>scipy.linalg.lu</code> explique qué es $P$ y el resultado obtenido para él. ¿Qué diferencia hay entre usar <code>permute_l=False</code> y <code>permute_l=True</code> en las opciones de la librería <code>scipy.linalg.lu</code> y en la obtención del resultado?\n",
    "\n",
    "**Respuesta:**\n",
    "\n",
    "*P es una matriz de permutación que reordena las filas de la matriz $LU$ para que se recupere la $A$ original, es decir: $PLU=A$. Puede ocurrir que $P$ sea la matriz identidad o que como en el caso de ejemplo que aquí se proporciona $P$ no sea diagonal. La aparición de $P$ es debida al algoritmo utilizado para realizar la factorización $LU$. Si se le indica la librería* <code>scipy.linalg.lu</code> *la opción* <code>permute_l=True</code> *entonces por defecto construye una $P$ igual a la identidad y se cumple exactamente $LU=A$. A continuación se proporciona el ejemplo de cómo este cálculo:*\n"
   ]
  },
  {
   "cell_type": "code",
   "execution_count": 8,
   "id": "3c8051e7",
   "metadata": {},
   "outputs": [
    {
     "name": "stdout",
     "output_type": "stream",
     "text": [
      "[[ 1.          0.          0.          0.          0.        ]\n",
      " [ 0.25        1.          0.          0.          0.        ]\n",
      " [-1.         -0.66666667  1.          0.          0.        ]\n",
      " [-0.75       -0.11111111  0.65217391  1.          0.        ]\n",
      " [ 0.625       0.83333333 -0.58695652 -0.09447005  1.        ]]\n",
      "[[ 8.          2.          5.          3.          2.        ]\n",
      " [ 0.          4.5         6.75       -6.75       -8.5       ]\n",
      " [ 0.          0.         11.5        -4.5        -0.66666667]\n",
      " [ 0.          0.          0.          9.43478261 -2.00966184]\n",
      " [ 0.          0.          0.          0.          0.25217614]]\n",
      "[[ 8.  2.  5.  3.  2.]\n",
      " [ 2.  5.  8. -6. -8.]\n",
      " [-8. -5.  2. -3.  3.]\n",
      " [-6. -2.  3.  5. -3.]\n",
      " [ 5.  5.  2. -2. -5.]]\n"
     ]
    }
   ],
   "source": [
    "L, U = linalg.lu(A,permute_l=True)\n",
    "print(L)\n",
    "print(U)\n",
    "print(np.matmul(L,U))"
   ]
  },
  {
   "cell_type": "markdown",
   "id": "605e90dd",
   "metadata": {},
   "source": [
    "La factorización $LU$ se puede explotar para resolver el sistema\n",
    "$$Ax=b$$\n",
    "Sin embargo, es más directo resolver el sistema utilizando la librería <code>solve</code> de <code>scipy.linalg</code> https://docs.scipy.org/doc/scipy/reference/generated/scipy.linalg.solve.html. Hágalo en la siguiente celda"
   ]
  },
  {
   "cell_type": "code",
   "execution_count": 9,
   "id": "7aae49bf",
   "metadata": {},
   "outputs": [
    {
     "name": "stdout",
     "output_type": "stream",
     "text": [
      "[-2.85888325  5.94517766  1.85685279  0.65380711  3.36751269]\n"
     ]
    }
   ],
   "source": [
    "X = linalg.solve(A,b)\n",
    "print(X)"
   ]
  },
  {
   "cell_type": "markdown",
   "id": "111d93ef",
   "metadata": {},
   "source": [
    "Compruebe que efectivamente la solución correcta es $X$ sustituyendo en el sistema de ecuaciones $AX=b$"
   ]
  },
  {
   "cell_type": "code",
   "execution_count": 10,
   "id": "cc58b006",
   "metadata": {},
   "outputs": [
    {
     "name": "stdout",
     "output_type": "stream",
     "text": [
      "[7. 8. 5. 4. 1.] [7 8 5 4 1]\n"
     ]
    }
   ],
   "source": [
    "print(np.matmul(A,X),b) #Comprobación de que el resultado es correcto Ax=b"
   ]
  },
  {
   "cell_type": "markdown",
   "id": "87ede903",
   "metadata": {},
   "source": [
    "#### Diagonalización\n",
    "\n",
    "A continuación realice la diagonalización de $A$ calculando los autovalores y los autovectores usando la librería <code>eig</code> de <code>numpy</code> https://numpy.org/doc/stable/reference/generated/numpy.linalg.eig.html"
   ]
  },
  {
   "cell_type": "code",
   "execution_count": 11,
   "id": "215a9621",
   "metadata": {},
   "outputs": [
    {
     "name": "stdout",
     "output_type": "stream",
     "text": [
      "Autovalores=  [3.24353318+8.82351533j 3.24353318-8.82351533j 7.88011326+0.j\n",
      " 0.31641019+1.14642598j 0.31641019-1.14642598j]\n",
      "Autovectores=  [[-0.06539183-0.42565219j -0.06539183+0.42565219j  0.01739902+0.j\n",
      "   0.38573647+0.01742729j  0.38573647-0.01742729j]\n",
      " [ 0.52310368+0.j          0.52310368-0.j         -0.6128042 +0.j\n",
      "  -0.82447991+0.j         -0.82447991-0.j        ]\n",
      " [ 0.30198798+0.42502584j  0.30198798-0.42502584j -0.04126662+0.j\n",
      "  -0.06314681-0.00270529j -0.06314681+0.00270529j]\n",
      " [ 0.47310125-0.10722445j  0.47310125+0.10722445j  0.70830194+0.j\n",
      "  -0.0802128 +0.05482415j -0.0802128 -0.05482415j]\n",
      " [ 0.04566587-0.17792054j  0.04566587+0.17792054j -0.34752513+0.j\n",
      "  -0.38924381+0.07868407j -0.38924381-0.07868407j]]\n"
     ]
    }
   ],
   "source": [
    "w, v = linalg.eig(A)\n",
    "print('Autovalores= ',w)\n",
    "print('Autovectores= ',v)"
   ]
  },
  {
   "cell_type": "markdown",
   "id": "6bb8a3c7",
   "metadata": {},
   "source": [
    "## Interpolación\n",
    "\n",
    "En el cuaderno <code>TestEjecucion_CNyEA.ipynb</code> se proporciona el código para reproducir la Figura 3.2 de los apuntes (ejecute la siguiente celda):"
   ]
  },
  {
   "cell_type": "code",
   "execution_count": 12,
   "id": "70863e69",
   "metadata": {},
   "outputs": [
    {
     "name": "stdout",
     "output_type": "stream",
     "text": [
      "Copie y pegue dicho código en la siguiente celda y modifíquelo para\n",
      "obtener los resultados de la Figura 3.2 con los siguientes\n",
      "pares de puntos (x,y):\n",
      "( 1.0 , 2.9102490559414305 )\n",
      "( 3.0 , 3.8123661093087993 )\n",
      "( 5.0 , 3.210279121387014 )\n",
      "( 7.0 , 9.425446680115733 )\n",
      "( 9.0 , 7.026669725351259 )\n",
      "( 11.0 , 1.364503186469025 )\n",
      "con un polinomio de grado: 5\n",
      "y calcule el valor en x=6.5\n",
      "calcule también el valor en x=6.5 si se interpola linealmente entre los puntos x=5 y x=7\n"
     ]
    }
   ],
   "source": [
    "print('Copie y pegue dicho código en la siguiente celda y modifíquelo para')\n",
    "print('obtener los resultados de la Figura 3.2 con los siguientes')\n",
    "print('pares de puntos (x,y):')\n",
    "for i in range(ndatos):\n",
    "    print('(',xinput[i],',',yinput[i],')')\n",
    "print('con un polinomio de grado:',yinput.size-1)\n",
    "print('y calcule el valor en x=6.5')\n",
    "print('calcule también el valor en x=6.5 si se interpola linealmente entre los puntos x=5 y x=7')\n"
   ]
  },
  {
   "cell_type": "code",
   "execution_count": 14,
   "id": "83c2bf31",
   "metadata": {},
   "outputs": [
    {
     "name": "stdout",
     "output_type": "stream",
     "text": [
      "Vamos a interpolar los puntos (x,y)\n",
      "( 1.0 , 2.9102490559414305 )\n",
      "( 3.0 , 3.8123661093087993 )\n",
      "( 5.0 , 3.210279121387014 )\n",
      "( 7.0 , 9.425446680115733 )\n",
      "( 9.0 , 7.026669725351259 )\n",
      "( 11.0 , 1.364503186469025 )\n",
      "y obtener el valor y=f(x)=f( 6.5 )\n",
      " \n",
      "Resultado de la interpolación usando nuestra implementación del algoritmo de Neville:\n",
      "y=f( 6.5 )= 8.089099042445335\n",
      "Resultado de la interpolación usando la librería numpy:\n",
      "y=f( 6.5 )= 8.089099042446573\n",
      "--------------------------------------------------\n"
     ]
    }
   ],
   "source": [
    "# sustituya los puntos suspensivos por el código adecuado\n",
    "\n",
    "def interpolacion_polinomica_Neville(xa,ya,x):\n",
    "    n = len(xa)\n",
    "    p = n*[0]\n",
    "    for k in range(n):\n",
    "        for i in range(n-k):\n",
    "            if k == 0:\n",
    "                p[i] = ya[i]\n",
    "            else:\n",
    "                p[i] = ((x-xa[i+k])*p[i]+(xa[i]-x)*p[i+1])/(xa[i]-xa[i+k])\n",
    "    return p[0]\n",
    "\n",
    "xa = xinput\n",
    "ya = yinput\n",
    "punto_a_calcular = 6.5\n",
    "pendiente = (ya[1] - ya[0] )/(xa[1]-xa[0]);\n",
    "ordenada = ya[0] - pendiente*xa[0];\n",
    "y = interpolacion_polinomica_Neville(xa,ya,punto_a_calcular)\n",
    "n = xa.size\n",
    "p = np.polyfit(xa,ya,n-1);\n",
    "print('Vamos a interpolar los puntos (x,y)')\n",
    "for i in range(n):\n",
    "    print('(',xa[i],',',ya[i],')')\n",
    "print('y obtener el valor y=f(x)=f(',punto_a_calcular,')')\n",
    "print(' ')\n",
    "print('Resultado de la interpolación usando nuestra implementación del algoritmo de Neville:')\n",
    "print('y=f(',punto_a_calcular,')=',y)\n",
    "print('Resultado de la interpolación usando la librería numpy:')\n",
    "print('y=f(',punto_a_calcular,')=',np.polyval(p,punto_a_calcular))\n",
    "print(50*'-')\n"
   ]
  },
  {
   "cell_type": "markdown",
   "id": "2782536e",
   "metadata": {},
   "source": [
    "## Resolución de ecuaciones no lineales\n",
    "\n",
    "El paso siguiente es resolver una ecuación no lineal aplicando el método de la bisección. La ecuación elegida es:\n",
    "$$p(x)=0$$\n",
    "donde $p(x)$ es un polinomio que fue generado al principio del cuaderno y cuyos coeficientes están almacenados en  <code>ppol</code>. Para calcular las raices de un polinomio, <code>numpy</code> tiene la función <code>roots</code> https://numpy.org/doc/stable/reference/generated/numpy.roots.html#numpy.roots Calcule en la siguiente celda las raices de dicho polinomio utilizando este procedimiento."
   ]
  },
  {
   "cell_type": "code",
   "execution_count": 15,
   "id": "4175a0cd",
   "metadata": {},
   "outputs": [
    {
     "data": {
      "text/plain": [
       "array([ 3., -6., -4.])"
      ]
     },
     "execution_count": 15,
     "metadata": {},
     "output_type": "execute_result"
    }
   ],
   "source": [
    "np.roots(ppol)"
   ]
  },
  {
   "cell_type": "markdown",
   "id": "d46d6f8c",
   "metadata": {},
   "source": [
    "La solución han de ser raices reales. Esta función <code>roots</code> se puede utilizar porque queremos las raices de un polinomio, pero nos interesa resolver casos más generales y para ello vamos a aprender a usar los métodos de la bisección y de Newton, lo cuál es inmediato utilizando las funciones <code>bisect</code> https://docs.scipy.org/doc/scipy/reference/generated/scipy.optimize.bisect.html#scipy.optimize.bisect de la librería <code>scipy.optimize</code> que hemos cargado con el alias <code>optimize</code>. Para obtener una raiz del polinomio anterior utilizando el método de la bisección, ejecute la siguiente celda"
   ]
  },
  {
   "cell_type": "code",
   "execution_count": 16,
   "id": "e029ecc5",
   "metadata": {},
   "outputs": [
    {
     "name": "stdout",
     "output_type": "stream",
     "text": [
      "3.000000000000682\n"
     ]
    }
   ],
   "source": [
    "def f(x):\n",
    "    return np.polyval(ppol,x);\n",
    "\n",
    "raiz = optimize.bisect(f, -10.,10.)\n",
    "print(raiz)"
   ]
  },
  {
   "cell_type": "markdown",
   "id": "a709d1b5",
   "metadata": {},
   "source": [
    "Donde <code>f</code> es la función (el polinomio en este caso) del que queremos obtener la raiz, y  <code>-10.,10.</code> definen el rango en el que vamos a buscar la raiz. Este método sólo proporciona una raiz. Calcule la(s) demás en la siguiente celda utilizando el mismo método"
   ]
  },
  {
   "cell_type": "code",
   "execution_count": 17,
   "id": "bbd50d20",
   "metadata": {},
   "outputs": [
    {
     "name": "stdout",
     "output_type": "stream",
     "text": [
      "-6.000000000000227\n",
      "-4.0\n"
     ]
    }
   ],
   "source": [
    "raiz = optimize.bisect(f, -10.,-5.)\n",
    "print(raiz)\n",
    "raiz = optimize.bisect(f, -5.,-1.)\n",
    "print(raiz)"
   ]
  },
  {
   "cell_type": "markdown",
   "id": "1d66c904",
   "metadata": {},
   "source": [
    "## Pregunta: ##\n",
    "\n",
    "Ya que estamos calculando raices de un polinomio, dado un polinomio genérico de grado 4, es decir $a_0+a_1 x+a_2 x^2+a_3 x^3+a_4 x^4$. ¿Cuántas raices reales puede tener? ¿Podría no tener raíces reales?\n",
    "\n",
    "**Respuesta:**\n",
    "\n",
    "*Dado que el polinomio es de grado 4 el máximo número de raíces que puede tener es 4, de las cuales, es posible que ninguna sea real. El motivo es que si tuviera raíces complejas, estas aparecerían en pares complejo conjugados de la forma $x \\pm iy$. Al aparecer en pares debería haber 0, 2, ó 4 raíces complejas, pudiendo ocurrir que no hubiera raices reales.*\n"
   ]
  },
  {
   "cell_type": "markdown",
   "id": "827f551e",
   "metadata": {},
   "source": [
    "## Derivación e integración numérica\n",
    "\n",
    "Vamos a derivar y a integrar numéricamente el polinomio que hemos utilizado en el ejercicio de interpolación. Para ello vamos a emplear las funciones <code>gradient</code> de <code>numpy</code> para derivar https://numpy.org/doc/stable/reference/generated/numpy.gradient.html y <code>scipy.integrate</code> cargada con el alias <code>integrate</code> para integrar https://docs.scipy.org/doc/scipy/tutorial/integrate.html."
   ]
  },
  {
   "cell_type": "markdown",
   "id": "3f7e1baa",
   "metadata": {},
   "source": [
    "### Derivación\n",
    "\n",
    "Rellene los huecos <code>...</code> y ejecute la celda"
   ]
  },
  {
   "cell_type": "code",
   "execution_count": 18,
   "id": "2f7599af",
   "metadata": {},
   "outputs": [
    {
     "data": {
      "image/png": "[encoded data removed]",
      "text/plain": [
       "<Figure size 500x500 with 1 Axes>"
      ]
     },
     "metadata": {},
     "output_type": "display_data"
    }
   ],
   "source": [
    "x_para_gradiente = np.linspace(-10.,10.,100)\n",
    "y_para_gradiente = np.array([ f(i) for i in x_para_gradiente])\n",
    "derivada = np.gradient(y_para_gradiente,x_para_gradiente)\n",
    "\n",
    "fig = plt.figure(figsize=(5, 5))\n",
    "plt.plot(x_para_gradiente,y_para_gradiente,c=jpac_color[3],label='Funcion')\n",
    "plt.plot(x_para_gradiente,derivada,'--',c=jpac_color[0],label='Derivada')\n",
    "plt.legend(loc='upper left')\n",
    "plt.grid(color = jpac_color[9], linestyle = '--', linewidth = 0.5)\n",
    "plt.show()"
   ]
  },
  {
   "cell_type": "markdown",
   "id": "97210566",
   "metadata": {},
   "source": [
    "## Pregunta: ##\n",
    "\n",
    "En la figura anterior está representando simultáneamente la función y la derivada. Haciendo uso de los apuntes y sus conocimientos de cálculo. ¿A qué corresponde la curva de la función derivada en relación con la función original? ¿Cuántos ceros tiene la función derivada y cuál es su interpretación? ¿La figura obtenida es coherente con dicha interpretación de la función derivada y con lo que se espera signifiquen los ceros de la función derivada?\n",
    "\n",
    "**Respuesta:**\n",
    "\n",
    "*La función derivada $f'(x)$ se corresponde con la pendiente de la función $f(x)$. En la figura se aprecia que la función derivada es positiva cuando la función $f(x)$ es creciente y negativa cuando $f(x)$ es decreciente. Hay dos ceros de $f'(x)$ que se corresponden con los máximos y mínimos locales de la función $f(x)$ como se puede apreciar en la figura.*"
   ]
  },
  {
   "cell_type": "markdown",
   "id": "636f6063",
   "metadata": {},
   "source": [
    "### Integración\n",
    "\n",
    "Vamos a integrar en un cierto rango de $x$ el polinomio $p(x)$ previamente definido en el apartado de resolución de ecuaciones no lineales. Primero hay que definir el integrando."
   ]
  },
  {
   "cell_type": "code",
   "execution_count": 19,
   "id": "8281fcf6",
   "metadata": {},
   "outputs": [],
   "source": [
    "def integrando(x):\n",
    "    return np.polyval(ppol,x);"
   ]
  },
  {
   "cell_type": "markdown",
   "id": "5fe90df2",
   "metadata": {},
   "source": [
    "Y para integrar vamos a utilizar la función <code>integrate.quad</code> para integrar $p(x)$ entre -5 y 2, la cuál proporciona dos valores, el resultado de la integral y el error numérico. Complete la siguiente celda rellenado los huecos <code>...</code> y ejecute:"
   ]
  },
  {
   "cell_type": "code",
   "execution_count": 20,
   "id": "8dc1a1df",
   "metadata": {},
   "outputs": [
    {
     "name": "stdout",
     "output_type": "stream",
     "text": [
      "Valor de la integral= -282.9166666666667\n",
      "Error numérico= 3.254784971292443e-12\n"
     ]
    }
   ],
   "source": [
    "I, error = integrate.quad(integrando, -5, 2)\n",
    "print('Valor de la integral=',I)\n",
    "print('Error numérico=',error)"
   ]
  },
  {
   "cell_type": "markdown",
   "id": "4f39e993",
   "metadata": {},
   "source": [
    "## Pregunta: ##\n",
    "\n",
    "¿Qué significado geométrico tiene el valor de la integral?\n",
    "\n",
    "**Respuesta:**\n",
    "\n",
    "*La integral total se corresponde al área existente entre la curva dada por el integrando por encima del eje $x$ menos el área de la misma curva por debajo del eje $x$.*\n"
   ]
  },
  {
   "cell_type": "markdown",
   "id": "1b88bfc9",
   "metadata": {},
   "source": [
    "A continuación pinte la función $F(y)$  definida como $$F(y) = \\int_{0}^y p(x) dx$$ en el intervalo $x\\in [0,5]$. Complete la siguiente celda rellenado los huecos <code>...</code> y ejecute: "
   ]
  },
  {
   "cell_type": "code",
   "execution_count": 36,
   "id": "33572f7d",
   "metadata": {},
   "outputs": [
    {
     "data": {
      "image/png": "[encoded data removed]",
      "text/plain": [
       "<Figure size 500x500 with 1 Axes>"
      ]
     },
     "metadata": {},
     "output_type": "display_data"
    }
   ],
   "source": [
    "y = np.arange(0,5,0.01)\n",
    "integral = np.zeros(len(y))\n",
    "i = 0\n",
    "for yy in y:\n",
    "    integral[i], error = integrate.quad(integrando, 0, yy)\n",
    "    i += 1\n",
    "\n",
    "fig = plt.figure(figsize=(5, 5))\n",
    "plt.xlabel('$y$')\n",
    "plt.ylabel('$F(y)$')\n",
    "plt.plot(y,integral,c=jpac_color[3])\n",
    "plt.grid(color = jpac_color[9], linestyle = '--', linewidth = 0.5)\n",
    "plt.show()"
   ]
  },
  {
   "cell_type": "markdown",
   "id": "0ac5e8af",
   "metadata": {},
   "source": [
    "**Con esto se termina la primera PEC de la asignatura.**\n",
    "\n",
    "**Proceda a imprimirla. En Binder vaya al menú File arriba a la izquierda y seleccione Print. Se debería generar un pdf con toda la práctica. A continuación, suba el pdf antes de las 15:00 del 27 de noviembre de 2026 al apartado de tareas con el epígrafe \"PEC 1 (Cálculo Numérico)\" del AGORA**"
   ]
  },
  {
   "cell_type": "markdown",
   "id": "e3507172",
   "metadata": {},
   "source": [
    "## Información sobre el sistema de calificación ##\n",
    "\n",
    "El cuaderno tiene 4 secciones en las que se desarrolla código y/o se responde a preguntas. La asignación de puntuación a cada sección es la siguiente:\n",
    "\n",
    "- **Sistemas de ecuaciones [2 puntos]**, de los cuáles el desarrollo del código vale 1 punto y la respuesta a la pregunta 1 punto.\n",
    "- **Interpolación [2 puntos]**, de los cuáles el el desarrollo del código vale 2 puntos.\n",
    "- **Resolución de ecuaciones no lineales [2 puntos]**, de los cuáles el desarrollo del código vale 1 punto y la respuesta a la pregunta 1 punto.\n",
    "- **Derivación e integración [4 puntos]**, de los cuáles el desarrollo del código de derivación vale 1 punto, el desarrollo del código de la primera integración vale 0,5 puntos,  el desarrollo del código de la segunda integración [calcular $F(y)$] vale 1 punto, la respuesta a la pregunta de derivación vale 1 punto y la respuesta a la pregunta de integración vale 0,5 puntos.\n",
    "\n",
    "Totalizándose 10 puntos.\n",
    "\n",
    "Es muy importante que tenga presente que cada PEC es diferente para cada alumno debido a que se utiliza un generador de numeros aleatorios para construir las matrices y funciones.\n"
   ]
  }
 ],
 "metadata": {
  "kernelspec": {
   "display_name": "base",
   "language": "python",
   "name": "python3"
  },
  "language_info": {
   "codemirror_mode": {
    "name": "ipython",
    "version": 3
   },
   "file_extension": ".py",
   "mimetype": "text/x-python",
   "name": "python",
   "nbconvert_exporter": "python",
   "pygments_lexer": "ipython3",
   "version": "3.9.15"
  }
 },
 "nbformat": 4,
 "nbformat_minor": 5
}
