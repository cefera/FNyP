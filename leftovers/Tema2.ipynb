{
 "cells": [
  {
   "cell_type": "markdown",
   "metadata": {},
   "source": [
    "# Física Nuclear y de Partículas #\n",
    "\n",
    "## Tema 2. La interacción nuclear.  ##\n",
    "\n",
    "\n",
    "César Fernández Ramírez\\\n",
    "Departamento de Física Interdisciplinar\\\n",
    "Universidad Nacional de Eduación a Distancia\n",
    "\n",
    "Versión: Junio 2024\n",
    "\n",
    "Contenidos:\n",
    "\n",
    "- \n",
    "\n"
   ]
  },
  {
   "cell_type": "code",
   "execution_count": null,
   "metadata": {},
   "outputs": [],
   "source": [
    "import numpy as np\n",
    "import matplotlib.pyplot as plt\n",
    "import matplotlib.colors as colors\n",
    "import matplotlib.cm as cm\n",
    "import pandas as pd\n",
    "\n",
    "jpac_blue   = \"#1F77B4\"; jpac_red    = \"#D61D28\";\n",
    "jpac_green  = \"#2CA02C\"; jpac_orange = \"#FF7F0E\";\n",
    "jpac_purple = \"#9467BD\"; jpac_brown  = \"#8C564B\";\n",
    "jpac_pink   = \"#E377C2\"; jpac_gold   = \"#BCBD22\";\n",
    "jpac_aqua   = \"#17BECF\"; jpac_grey   = \"#7F7F7F\";\n",
    "\n",
    "jpac_color = [jpac_blue, jpac_red, jpac_green, \n",
    "              jpac_orange, jpac_purple, jpac_brown,\n",
    "              jpac_pink, jpac_gold, jpac_aqua, jpac_grey, 'black' ];\n",
    "\n",
    "jpac_axes = jpac_color[10]\n",
    "dashes = 40*'-'\n"
   ]
  }
 ],
 "metadata": {
  "kernelspec": {
   "display_name": "base",
   "language": "python",
   "name": "python3"
  },
  "language_info": {
   "codemirror_mode": {
    "name": "ipython",
    "version": 3
   },
   "file_extension": ".py",
   "mimetype": "text/x-python",
   "name": "python",
   "nbconvert_exporter": "python",
   "pygments_lexer": "ipython3",
   "version": "3.9.15"
  }
 },
 "nbformat": 4,
 "nbformat_minor": 2
}
