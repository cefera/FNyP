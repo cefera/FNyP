{
 "cells": [
  {
   "cell_type": "markdown",
   "metadata": {},
   "source": [
    "# Física Nuclear y de Partículas #\n",
    "\n",
    "## Tema 2. La interacción nuclear.  ##\n",
    "\n",
    "\n",
    "César Fernández Ramírez\\\n",
    "Departamento de Física Interdisciplinar\\\n",
    "Universidad Nacional de Eduación a Distancia\n",
    "\n",
    "Versión: Junio 2024\n",
    "\n",
    "Contenidos:\n",
    "\n",
    "- \n",
    "\n"
   ]
  },
  {
   "cell_type": "markdown",
   "metadata": {},
   "source": []
  }
 ],
 "metadata": {
  "language_info": {
   "name": "python"
  }
 },
 "nbformat": 4,
 "nbformat_minor": 2
}
