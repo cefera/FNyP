{
 "cells": [
  {
   "cell_type": "markdown",
   "metadata": {},
   "source": [
    "# Física Nuclear y de Partículas #\n",
    "\n",
    "## Tema 2. La interacción nuclear.  ##\n",
    "\n",
    "\n",
    "César Fernández Ramírez\\\n",
    "Departamento de Física Interdisciplinar\\\n",
    "Universidad Nacional de Eduación a Distancia\n",
    "\n",
    "Versión: Junio 2024\n",
    "\n",
    "Contenidos:\n",
    "\n",
    "- \n",
    "\n"
   ]
  },
  {
   "cell_type": "code",
   "execution_count": 27,
   "metadata": {},
   "outputs": [],
   "source": [
    "import numpy as np\n",
    "import matplotlib.pyplot as plt\n",
    "import matplotlib.colors as colors\n",
    "import matplotlib.cm as cm\n",
    "import pandas as pd\n",
    "import matplotlib.ticker as ticker\n",
    "\n",
    "jpac_blue   = \"#1F77B4\"; jpac_red    = \"#D61D28\";\n",
    "jpac_green  = \"#2CA02C\"; jpac_orange = \"#FF7F0E\";\n",
    "jpac_purple = \"#9467BD\"; jpac_brown  = \"#8C564B\";\n",
    "jpac_pink   = \"#E377C2\"; jpac_gold   = \"#BCBD22\";\n",
    "jpac_aqua   = \"#17BECF\"; jpac_grey   = \"#7F7F7F\";\n",
    "\n",
    "jpac_color = [jpac_blue, jpac_red, jpac_green, \n",
    "              jpac_orange, jpac_purple, jpac_brown,\n",
    "              jpac_pink, jpac_gold, jpac_aqua, jpac_grey, 'black' ];\n",
    "\n",
    "jpac_axes = jpac_color[10]\n",
    "dashes = 60*'-'\n",
    "\n",
    "# the service URL\n",
    "livechart = \"https://nds.iaea.org/relnsd/v1/data?\"\n",
    "\n",
    "# There have been cases in which the service returns an HTTP Error 403: Forbidden\n",
    "# use this workaround\n",
    "import urllib.request\n",
    "def lc_pd_dataframe(url):\n",
    "    req = urllib.request.Request(url)\n",
    "    req.add_header('User-Agent', 'Mozilla/5.0 (X11; Ubuntu; Linux x86_64; rv:77.0) Gecko/20100101 Firefox/77.0')\n",
    "    return pd.read_csv(urllib.request.urlopen(req))\n",
    "\n",
    "df = lc_pd_dataframe(livechart + \"fields=ground_states&nuclides=all\")\n",
    "df = df[pd.to_numeric(df['binding'],errors='coerce').notna()]\n",
    "df['binding'] /= 1000\n",
    "df['A'] = df['n']+df['z']\n",
    "\n",
    "uma = 931.4941024/1000000/1000\n",
    "\n",
    "def yukawa(k,la,r):\n",
    "    return -k*np.exp(-r/la)/r\n",
    "def yukawaeff(k,la,l,m,r):\n",
    "    return yukawa(k,la,r) + l*(l+1)/(2*m*r**2)\n"
   ]
  },
  {
   "cell_type": "markdown",
   "metadata": {},
   "source": [
    "Deuterón"
   ]
  },
  {
   "cell_type": "code",
   "execution_count": 89,
   "metadata": {},
   "outputs": [
    {
     "name": "stdout",
     "output_type": "stream",
     "text": [
      "------------------------------------------------------------------------------------------------------------------------\n",
      "Propiedades del deuterón:\n",
      "A= 2 ; Z= 1 ( H ); N= 1\n",
      "Año de descubrimiento:  1932\n",
      "Vida media:  STABLE\n",
      "Abundancia:  0.0145 %\n",
      "Radio de carga:  2.1421 +/- 0.0088 fm\n",
      "Energía de ligadura:  2.2245662000000004 +/- 0.0004 MeV\n",
      "Masa:  2014.1017778439998 +/- 1.5000000000000002e-08 u.m.a. ; 1.8761239276950408 GeV\n",
      "Dipolo magnético:  0.857438231 magnetones de Bohr\n",
      "Cuadrupolo eléctrico:  0.0028578 barn\n",
      "Energía de separación del protón:   2.2245662000000004 +/- 4.0000000000000003e-07 MeV\n",
      "Energía de separación del neutrón:  2.2245662000000004 +/- 4.0000000000000003e-07 MeV\n",
      "------------------------------------------------------------------------------------------------------------------------\n"
     ]
    }
   ],
   "source": [
    "deuteron = df.loc[ ((df['z']==1) & (df['n']==1))] \n",
    "print(dashes+dashes)\n",
    "print('Propiedades del deuterón:')\n",
    "print('A=',deuteron['A'].values[0],';','Z=',deuteron['z'].values[0],'(',deuteron['symbol'].values[0],');','N=',deuteron['n'].values[0])\n",
    "print('Año de descubrimiento: ', int(deuteron['discovery'].values[0]))\n",
    "print('Vida media: ', deuteron['half_life'].values[0])\n",
    "print('Abundancia: ', deuteron['abundance'].values[0],'%')\n",
    "print('Radio de carga: ', deuteron['radius'].values[0],'+/-',deuteron['unc_r'].values[0],'fm')\n",
    "print('Energía de ligadura: ', deuteron['binding'].values[0]*deuteron['A'].values[0],'+/-',deuteron['unc_ba'].values[0]*deuteron['A'].values[0],'MeV')\n",
    "print('Masa: ', deuteron['atomic_mass'].values[0]/1000,'+/-',deuteron['unc_am'].values[0]/1000,'u.m.a.',';',deuteron['atomic_mass'].values[0]*uma,'GeV')\n",
    "print('Dipolo magnético: ', deuteron['magnetic_dipole'].values[0],'magnetones de Bohr')\n",
    "print('Cuadrupolo eléctrico: ', deuteron['electric_quadrupole'].values[0],'barn')\n",
    "print('Energía de separación del protón:  ', deuteron['sp'].values[0]/1000,'+/-',deuteron['unc_sp'].values[0]/1000,'MeV')\n",
    "print('Energía de separación del neutrón: ', deuteron['sn'].values[0]/1000,'+/-',deuteron['unc_sn'].values[0]/1000,'MeV')\n",
    "print(dashes+dashes)"
   ]
  },
  {
   "cell_type": "code",
   "execution_count": null,
   "metadata": {},
   "outputs": [],
   "source": []
  }
 ],
 "metadata": {
  "kernelspec": {
   "display_name": "base",
   "language": "python",
   "name": "python3"
  },
  "language_info": {
   "codemirror_mode": {
    "name": "ipython",
    "version": 3
   },
   "file_extension": ".py",
   "mimetype": "text/x-python",
   "name": "python",
   "nbconvert_exporter": "python",
   "pygments_lexer": "ipython3",
   "version": "3.9.15"
  }
 },
 "nbformat": 4,
 "nbformat_minor": 2
}
